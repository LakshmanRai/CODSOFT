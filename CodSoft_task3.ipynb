{
  "nbformat": 4,
  "nbformat_minor": 0,
  "metadata": {
    "colab": {
      "provenance": [],
      "authorship_tag": "ABX9TyP/AnQFPEGa5FfyM1Na52sb",
      "include_colab_link": true
    },
    "kernelspec": {
      "name": "python3",
      "display_name": "Python 3"
    },
    "language_info": {
      "name": "python"
    }
  },
  "cells": [
    {
      "cell_type": "markdown",
      "metadata": {
        "id": "view-in-github",
        "colab_type": "text"
      },
      "source": [
        "<a href=\"https://colab.research.google.com/github/LakshmanRai/CODSOFT/blob/main/CodSoft_task3.ipynb\" target=\"_parent\"><img src=\"https://colab.research.google.com/assets/colab-badge.svg\" alt=\"Open In Colab\"/></a>"
      ]
    },
    {
      "cell_type": "code",
      "source": [
        "pip install colorama"
      ],
      "metadata": {
        "id": "hoMpzz7A1Rg0"
      },
      "execution_count": null,
      "outputs": []
    },
    {
      "cell_type": "code",
      "execution_count": null,
      "metadata": {
        "id": "zZIHRjvhSgPU"
      },
      "outputs": [],
      "source": [
        "import random as rm\n",
        "from colorama import Fore\n",
        "\n",
        "print(\" ROCK   PAPER   SCISSOR \".center(50,'*'))\n",
        "print(\"your bot chossed one\")\n",
        "\n",
        "a=[\"Rock\", \"Paper\", \"Scissor\"] #assigning tools for bot\n",
        "\n",
        "user=input(\"Choose your tool: \").capitalize()\n",
        "bot=rm.choice(a)\n",
        "\n",
        "#checking the match\n",
        "if bot == user:\n",
        "  print(Fore.YELLOW,\" Result: DRAWN \".center(50,'#'), Fore.RESET)\n",
        "  print(\"Bot: \",bot)\n",
        "  print(\"Player: \",user)\n",
        "elif bot == \"Rock\" and user == \"Paper\" or  bot == \"Paper\" and user == \"Scissor\" or bot == \"Scissor\" and user == \"Rock\":\n",
        "  print(Fore.GREEN, \" Result: Winner \".center(50,'!'), Fore.RESET)\n",
        "  print(\"Bot: \",bot)\n",
        "  print(\"Player: \",user)\n",
        "elif bot == \"Scissor\" and user == \"Paper\" or bot == \"Paper\" and user == \"Rock\" or bot == \"Rock\" and user == \"Scissor\":\n",
        "  print(Fore.RED,\" Result: Loser \".center(50,'-'), Fore.RESET)\n",
        "  print(\"Bot: \",bot)\n",
        "  print(\"Player: \",user)"
      ]
    }
  ]
}