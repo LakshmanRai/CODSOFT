{
  "nbformat": 4,
  "nbformat_minor": 0,
  "metadata": {
    "colab": {
      "provenance": [],
      "mount_file_id": "1_eE18bw_2zO-QDLlgA5I5YkEr2-a-GqZ",
      "authorship_tag": "ABX9TyPigS6HT6qI/4iKrpPtKEUi",
      "include_colab_link": true
    },
    "kernelspec": {
      "name": "python3",
      "display_name": "Python 3"
    },
    "language_info": {
      "name": "python"
    }
  },
  "cells": [
    {
      "cell_type": "markdown",
      "metadata": {
        "id": "view-in-github",
        "colab_type": "text"
      },
      "source": [
        "<a href=\"https://colab.research.google.com/github/LakshmanRai/CODSOFT/blob/main/CodSoft_task1.ipynb\" target=\"_parent\"><img src=\"https://colab.research.google.com/assets/colab-badge.svg\" alt=\"Open In Colab\"/></a>"
      ]
    },
    {
      "cell_type": "code",
      "source": [
        "#importing random & string libraries for generating random characters and ascii\n",
        "import random as rm\n",
        "import string as sg\n",
        "from colorama import Fore\n",
        "\n",
        "print(\" PASSWORD GENERATOR \".center(50,\"*\"))\n",
        "#assigning the password elements to be generated\n",
        "b = sg.ascii_letters\n",
        "\n",
        "#generating the password\n",
        "d=3\n",
        "while 0<d:\n",
        "  #getting input from the user to generate password based on length\n",
        "  a = int(input(\"Enter the password length (must be greater than 8 characters) : \"))\n",
        "  if a >= 8:\n",
        "    for i in range(a):\n",
        "      c = rm.choice(b)\n",
        "      print(c,end='')\n",
        "    break\n",
        "  else:\n",
        "    print(Fore.YELLOW, \"For stronger password length must be greater than 8 characters\", Fore.RESET)\n",
        "    d-=1\n",
        "    print(Fore.YELLOW,f\" You have {d} chances left \".center(50,\"#\"), Fore.RESET)\n",
        "\n",
        "if d == 0:\n",
        "  print(Fore.RED, \" You have tried maximum count. Please Try Again after some time \".center(100,'!'))"
      ],
      "metadata": {
        "id": "FHq5P_3Qnl0-",
        "colab": {
          "base_uri": "https://localhost:8080/"
        },
        "outputId": "06710b31-92e2-43a3-811d-54ef3a036089"
      },
      "execution_count": null,
      "outputs": [
        {
          "output_type": "stream",
          "name": "stdout",
          "text": [
            "*************** PASSWORD GENERATOR ***************\n",
            "Enter the password length (must be greater than 8 characters) : 5\n",
            "\u001b[33m For stronger password length must be greater than 8 characters \u001b[39m\n",
            "\u001b[33m ############ You have 2 chances left ############# \u001b[39m\n",
            "Enter the password length (must be greater than 8 characters) : 7\n",
            "\u001b[33m For stronger password length must be greater than 8 characters \u001b[39m\n",
            "\u001b[33m ############ You have 1 chances left ############# \u001b[39m\n",
            "Enter the password length (must be greater than 8 characters) : 2\n",
            "\u001b[33m For stronger password length must be greater than 8 characters \u001b[39m\n",
            "\u001b[33m ############ You have 0 chances left ############# \u001b[39m\n",
            "\u001b[31m !!!!!!!!!!!!!!!!!! You have tried maximum count. Please Try Again after some time !!!!!!!!!!!!!!!!!!\n"
          ]
        }
      ]
    }
  ]
}