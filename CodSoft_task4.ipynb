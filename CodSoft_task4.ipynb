{
  "cells": [
    {
      "cell_type": "markdown",
      "metadata": {
        "id": "view-in-github",
        "colab_type": "text"
      },
      "source": [
        "<a href=\"https://colab.research.google.com/github/LakshmanRai/CODSOFT/blob/main/CodSoft_task4.ipynb\" target=\"_parent\"><img src=\"https://colab.research.google.com/assets/colab-badge.svg\" alt=\"Open In Colab\"/></a>"
      ]
    },
    {
      "cell_type": "code",
      "source": [
        "pip install colorama"
      ],
      "metadata": {
        "id": "7Qze9inbfAG4"
      },
      "execution_count": null,
      "outputs": []
    },
    {
      "cell_type": "code",
      "source": [
        "from colorama import Fore\n",
        "\n",
        "print(\" CONTACT LIST \".center(50,'#'))\n",
        "def add():\n",
        "  name=input(\"Enter the Name: \")\n",
        "  phone=input(\"Enter the phone number: \")\n",
        "  email=input(\"Enter the Mail ID: \")\n",
        "  address=input(\"Enter the address: \")\n",
        "\n",
        "  contact = {'Name':name, 'Phone':phone, 'Mail':email, 'Address':address}\n",
        "\n",
        "  contacts.append(contact)\n",
        "  print(Fore.GREEN,f' contact {name} added sucessfully '.center(50,'*'), Fore.RESET)\n",
        "\n",
        "def view():\n",
        "  if not contacts:\n",
        "    print(Fore.RED,\" Contact List is Empty \".center(50,'!'), Fore.RESET)\n",
        "  else:\n",
        "    for i in contacts:\n",
        "      print(f\"Name: {i['Name']}\", end='\\t')\n",
        "      print(f\"Number: {i['Phone']}\", end='\\t')\n",
        "      print(f\"Mail_ID: {i['Mail']}\", end='\\t')\n",
        "      print(f\"Address: {i['Address']}\")\n",
        "\n",
        "def search():\n",
        "  b=input(\"Enter the Name or phone number: \")\n",
        "  searches=[]\n",
        "\n",
        "  if not contacts:\n",
        "    print(Fore.CYAN,\" Contact List is Empty \".center(50,'!'), Fore.RESET)\n",
        "  else:\n",
        "    for i in contacts:\n",
        "      if b == i['Name'] or b == i['Phone']:\n",
        "        searches.append(i)\n",
        "    if not searches:\n",
        "      print(Fore.RED,\" Entered detail is not in contact list \".center(50,'-'), Fore.RESET)\n",
        "\n",
        "  for i in searches:\n",
        "      print(Fore.YELLOW,f\"Name: {i['Name']}\", end='\\t')\n",
        "      print(f\"Number: {i['Phone']}\", end='\\t')\n",
        "      print(f\"Mail_ID: {i['Mail']}\", end='\\t')\n",
        "      print(f\"Address: {i['Address']}\", Fore.RESET)\n",
        "\n",
        "def delete():\n",
        "  if not contacts:\n",
        "    print(Fore.RED,\" Contact List is Empty \".center(50,'!'), Fore.RESET)\n",
        "  else:\n",
        "    c=input(\"Enter the Name or Number: \")\n",
        "    found = False\n",
        "    for i in contacts:\n",
        "      if c == i['Name'] or c == i['Phone']:\n",
        "        contacts.remove(i)\n",
        "        print(Fore.RED, f'{i}  is removed from your contact list', Fore.RESET)\n",
        "        found = True\n",
        "    if not found:\n",
        "      print(Fore.RED, f'Contact with name or number {c} not found', Fore.RESET)\n",
        "\n",
        "contacts=[]\n",
        "\n",
        "while True:\n",
        "  print(\"1. ADD CONTACT\")\n",
        "  print(\"2. VIEW CONTACT\")\n",
        "  print(\"3. SEARCH CONTACT\")\n",
        "  print(\"4. DELETE CONTACT\")\n",
        "  print(\"5. EXIT\")\n",
        "\n",
        "  a=int(input(\"Enter your option\"))\n",
        "  if a==1:\n",
        "    add()\n",
        "  elif a==2:\n",
        "    view()\n",
        "  elif a==3:\n",
        "    search()\n",
        "  elif a==4:\n",
        "    delete()\n",
        "  elif a==5:\n",
        "    break\n",
        "  else:\n",
        "    print(Fore.RED,\"Enter the correct options\",Fore.RESET)"
      ],
      "metadata": {
        "id": "GflZIV1y9RkT"
      },
      "execution_count": null,
      "outputs": []
    }
  ],
  "metadata": {
    "colab": {
      "provenance": [],
      "include_colab_link": true
    },
    "kernelspec": {
      "display_name": "Python 3",
      "name": "python3"
    }
  },
  "nbformat": 4,
  "nbformat_minor": 0
}