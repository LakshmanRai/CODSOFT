{
  "nbformat": 4,
  "nbformat_minor": 0,
  "metadata": {
    "colab": {
      "provenance": [],
      "authorship_tag": "ABX9TyOFAu/ocpZnFBL3D6sND8Hf",
      "include_colab_link": true
    },
    "kernelspec": {
      "name": "python3",
      "display_name": "Python 3"
    },
    "language_info": {
      "name": "python"
    }
  },
  "cells": [
    {
      "cell_type": "markdown",
      "metadata": {
        "id": "view-in-github",
        "colab_type": "text"
      },
      "source": [
        "<a href=\"https://colab.research.google.com/github/LakshmanRai/CODSOFT/blob/main/CodSoft_task2.ipynb\" target=\"_parent\"><img src=\"https://colab.research.google.com/assets/colab-badge.svg\" alt=\"Open In Colab\"/></a>"
      ]
    },
    {
      "cell_type": "code",
      "source": [
        "pip install colorama"
      ],
      "metadata": {
        "id": "rNl1QIidtJ-k"
      },
      "execution_count": null,
      "outputs": []
    },
    {
      "cell_type": "code",
      "execution_count": null,
      "metadata": {
        "id": "oiPT9dluSCUA"
      },
      "outputs": [],
      "source": [
        "from colorama import Fore\n",
        "\n",
        "print(\" CALCULATOR \".center(50,'*'))\n",
        "\n",
        "print(\" OPERATIONS \".center(50,'-'))\n",
        "print(\" 1.ADDITION \")\n",
        "print(\" 2.SUBTRACTION \")\n",
        "print(\" 3.DIVISION \")\n",
        "print(\" 4.MULTIPLICATION \")\n",
        "\n",
        "#getting input from user\n",
        "a = int(input(\"Enter the operation to perform:\"))\n",
        "b = int(input(\"Enter No. of values: \"))\n",
        "c = []\n",
        "\n",
        "#checking the values, greater than 1 or not to perform calculations\n",
        "if b>1:\n",
        "  for i in range(b):\n",
        "    d = int(input(\"Enter values: \"))\n",
        "    c.append(d)\n",
        "  if a == 1: #addition\n",
        "    e=0\n",
        "    for i in c:\n",
        "      e+=i\n",
        "    print(\"RESULT: \",e)\n",
        "  elif a == 2: #subtraction\n",
        "    e=0\n",
        "    for i in c:\n",
        "      e=i-e\n",
        "    print(\"RESULT: \",e)\n",
        "  elif a == 3: #division\n",
        "    e=c[0]/c[1]\n",
        "    print(\"RESULT: \",e)\n",
        "  elif a == 4: #multiplication\n",
        "    e=1\n",
        "    for i in c:\n",
        "      e*=i\n",
        "    print(\"RESULT: \",e)\n",
        "\n",
        "else:\n",
        "  print(Fore.RED, \" WARNING \".center(100,\"!\"))\n",
        "  print(\" Enter the correct no.of values \".center(100,\"!\"))\n"
      ]
    }
  ]
}