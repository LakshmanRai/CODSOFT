{
  "nbformat": 4,
  "nbformat_minor": 0,
  "metadata": {
    "colab": {
      "provenance": [],
      "authorship_tag": "ABX9TyOLxAO/NQRKIRYFDOcquTsl",
      "include_colab_link": true
    },
    "kernelspec": {
      "name": "python3",
      "display_name": "Python 3"
    },
    "language_info": {
      "name": "python"
    }
  },
  "cells": [
    {
      "cell_type": "markdown",
      "metadata": {
        "id": "view-in-github",
        "colab_type": "text"
      },
      "source": [
        "<a href=\"https://colab.research.google.com/github/LakshmanRai/CODSOFT/blob/main/CodSoft_task5.ipynb\" target=\"_parent\"><img src=\"https://colab.research.google.com/assets/colab-badge.svg\" alt=\"Open In Colab\"/></a>"
      ]
    },
    {
      "cell_type": "code",
      "source": [
        "pip install colorama"
      ],
      "metadata": {
        "id": "B3JlTjRYG-FI"
      },
      "execution_count": null,
      "outputs": []
    },
    {
      "cell_type": "code",
      "execution_count": null,
      "metadata": {
        "id": "2jg7AXsy0ujb"
      },
      "outputs": [],
      "source": [
        "from colorama import Fore\n",
        "\n",
        "def add():\n",
        "  ad=input(\"ENTER THE TASK : \")\n",
        "  task.append(ad.upper())\n",
        "  print(Fore.CYAN,f' {ad} is added to the list '.center(50,'|'),Fore.RESET)\n",
        "\n",
        "def view():\n",
        "  if not task:  print(Fore.RED,\" TASK LIST IS EMPTY \".center(50,\"-\"), Fore.RESET)\n",
        "  else:\n",
        "    for i in task:\n",
        "      if 'COMPLETED' in i:  print(Fore.GREEN,(i),Fore.RESET)\n",
        "      else: print(Fore.BLUE,(i),Fore.RESET)\n",
        "\n",
        "def comp():\n",
        "  if not task:  print(Fore.RED,\" TASK LIST IS EMPTY \".center(50,\"-\"), Fore.RESET)\n",
        "  else:\n",
        "    comp = input(\"ENTER THE TASK COMPLETED : \")\n",
        "    flag = True\n",
        "    for i in task:\n",
        "      ind = task.index(i)\n",
        "      if comp.upper() == i:\n",
        "        task.pop(ind)\n",
        "        task.insert(ind,f'{comp.upper()} COMPLETED')\n",
        "        print(Fore.YELLOW, f' {comp.upper()} COMPLETED '.center(50,\"-\"), Fore.RESET)\n",
        "        flag = False\n",
        "    if flag:  print(Fore.RED,\" ENTERED TASK IS NOT IN LIST \".center(50,\"-\"), Fore.RESET)\n",
        "\n",
        "def delete():\n",
        "  if not task:  print(Fore.RED,\" TASK LIST IS EMPTY \".center(50,\"-\"), Fore.RESET)\n",
        "  else:\n",
        "    de=input(\"ENTER THE TASK TO REMOVE\")\n",
        "    if de.upper() in task:\n",
        "      task.remove(de.upper())\n",
        "      print(Fore.YELLOW, f\" {de} is deleted from the list \".center(50,'-'),Fore.RESET)\n",
        "    else: print(Fore.RED,\" ENTERED TASK WAS NOT FOUND IN LIST \".center(50,'*'),Fore.RESET)\n",
        "\n",
        "task=[]\n",
        "while True:\n",
        "  print(\" TO-DO LIST \".center(50,\"*\"))\n",
        "  print(\"1.ADD TASK\")\n",
        "  print(\"2.MARK TASK AS COMPLETED\")\n",
        "  print(\"3.VIEW TASK\")\n",
        "  print(\"4.DELETE A TASK\")\n",
        "  print(\"5.EXIT\")\n",
        "  a = input(\"ENTER THE OPTION : \")\n",
        "\n",
        "  if a == '1':  add()\n",
        "  elif a == '2':  comp()\n",
        "  elif a == '3':  view()\n",
        "  elif a == '4':  delete()\n",
        "  elif a == '5':  break\n",
        "  else: print(Fore.RED, \" ENTER THE CORRECT OPTION \".center(50,\"*\"), Fore.RESET)"
      ]
    }
  ]
}